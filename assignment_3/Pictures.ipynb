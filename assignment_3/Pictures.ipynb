{
 "cells": [
  {
   "cell_type": "code",
   "execution_count": 1,
   "metadata": {},
   "outputs": [],
   "source": [
    "import numpy as np\n",
    "import cv2\n",
    "import random\n",
    "\n",
    "img1 = cv2.imread('picture.jpg')\n",
    "img2 = cv2.imread('picture2.jpg')\n",
    "\n",
    "rows, cols, channels = img2.shape\n",
    "rows1, cols1, channels = img1.shape\n",
    "\n",
    "res = cv2.resize(img1, (rows1 // 2, cols1 // 2), interpolation=cv2.INTER_AREA)\n",
    "edges = cv2.Canny(res, 100, 200)\n",
    "imged = cv2.cvtColor(edges, cv2.COLOR_GRAY2BGR)\n",
    "img2[0:rows1//2, cols1:cols]=imged\n",
    "\n",
    "res = cv2.resize(img1, (rows1 // 4, cols1 // 4), interpolation=cv2.INTER_AREA)\n",
    "kernel = np.ones((5, 5), np.float32) / 25\n",
    "dst = cv2.blur(res, (5, 5))\n",
    "img2[rows1//2:(rows-rows//4), cols1:(cols-cols1//4)]=dst\n",
    "\n",
    "res = cv2.resize(img1, (rows1 // 4, cols1 // 4), interpolation=cv2.INTER_AREA)\n",
    "blur = cv2.GaussianBlur(res, (5,5), 0)\n",
    "img2[rows1//2:(rows-rows//4),(cols-cols1//4):cols]=blur\n",
    "\n",
    "res = cv2.resize(img1, (rows1 // 4, cols1 // 4), interpolation=cv2.INTER_AREA)\n",
    "median = cv2.medianBlur(res,3)\n",
    "img2[(rows-rows//4):rows,cols1:(cols-cols1//4)]=median\n",
    "\n",
    "for i in range(64):\n",
    "    for j in range(64):\n",
    "        res[i,j]=[random.randint(0, 255),random.randint(0, 255),random.randint(0, 255)]\n",
    "img2[(rows-rows//4):rows,(cols-cols1//4):cols]=res\n",
    "\n",
    "cv2.imshow('image', img2)\n",
    "k = cv2.waitKey(0)\n",
    "if k == 27:         # wait for ESC key to exit\n",
    "    cv2.destroyAllWindows()\n",
    "elif k == ord('s'): # wait for 's' key to save and exit\n",
    "    cv2.imwrite('picture2.png', img2)\n",
    "    cv2.destroyAllWindows()"
   ]
  }
 ],
 "metadata": {
  "kernelspec": {
   "display_name": "Python 3",
   "language": "python",
   "name": "python3"
  },
  "language_info": {
   "codemirror_mode": {
    "name": "ipython",
    "version": 3
   },
   "file_extension": ".py",
   "mimetype": "text/x-python",
   "name": "python",
   "nbconvert_exporter": "python",
   "pygments_lexer": "ipython3",
   "version": "3.7.6"
  }
 },
 "nbformat": 4,
 "nbformat_minor": 4
}
